{
 "cells": [
  {
   "cell_type": "markdown",
   "metadata": {},
   "source": [
    "# Monte Carlo particle filtering simulation"
   ]
  },
  {
   "cell_type": "code",
   "execution_count": 1,
   "metadata": {},
   "outputs": [],
   "source": [
    "# initial setup/imports\n",
    "\n",
    "import numpy as np\n",
    "import matplotlib.pyplot as plt\n",
    "import matplotlib as mpl\n",
    "\n",
    "import copy\n",
    "\n",
    "import State"
   ]
  },
  {
   "cell_type": "markdown",
   "metadata": {},
   "source": [
    "### True-state setup\n",
    "\n",
    "We need to initialise the system and setup the true state. Here, we can set the evolution, and measurement characteristics."
   ]
  },
  {
   "cell_type": "code",
   "execution_count": 2,
   "metadata": {},
   "outputs": [],
   "source": [
    "initPos = np.array([0,0])\n",
    "initV = np.array([1,0])\n",
    "\n",
    "trueState = State.Velocity_nD(initPos,initV,False) # false doesn't record the previous state."
   ]
  },
  {
   "cell_type": "markdown",
   "metadata": {},
   "source": [
    "### Monte Carlo particle initialisation\n",
    "\n",
    "In this section, we'll initialise the Monte Carlo particles that will evolve along trajectories defined by their state evolution functions."
   ]
  },
  {
   "cell_type": "code",
   "execution_count": 5,
   "metadata": {},
   "outputs": [],
   "source": [
    "n_particles = 1000\n",
    "particles = []\n",
    "\n",
    "for i in range(n_particles):\n",
    "    noise1 = np.random.normal(np.random.normal(0,2,1),1,2)\n",
    "    noise2 = np.random.normal(np.random.normal(0,2,1),1,2)\n",
    "\n",
    "    p = State.Velocity_nD(initPos+noise1, initV+noise2, False)\n",
    "    particles.append(p)\n",
    "\n",
    "# normalised relative weights. Initially they are equal as no measurements have been made.\n",
    "weights = np.array([1/n_particles] * n_particles)"
   ]
  },
  {
   "cell_type": "code",
   "execution_count": null,
   "metadata": {},
   "outputs": [],
   "source": [
    "'''Function to resample the Monte Carlo trajectories to enable the prouction of higher-weighted particles\n",
    "\n",
    "This will need to determine which trajectories to cull (diffreence in log(weights)?) and then sample which trajectories to reproduce based on the cdf of their weights.\n",
    "'''\n",
    "def resample(particles,weights):\n",
    "    cull_value = -4 # factor power of 10 that a weight can be below the maximum weight before it is culled \n",
    "    logweights = np.log10(weights)\n",
    "    cull = (logweights - np.max(logweights)) < cull_value\n",
    "    n_cull = np.sum(cull)\n",
    "    cull_indices = np.nonzero(~cull)\n",
    "\n",
    "    # to get the new trajectories, we need to first simulate a random selection on the valid trajectories to copy, based on their weights\n",
    "    cdf_weights = np.cumsum(weights*cull)\n",
    "    rn = np.random.uniform(size=n_cull) * cdf_weights[-1]\n",
    "    for j,cull_ind in enumerate(cull_indices):\n",
    "        copy_ind = np.max(np.nonzero(cdf_weights < rn[j]))\n",
    "        particles[cull_ind] = copy.copy(particles[copy_ind])\n",
    "        weights[cull_ind] = weights[copy_ind]\n",
    "\n",
    "    return particles, weights, cull_indices"
   ]
  }
 ],
 "metadata": {
  "kernelspec": {
   "display_name": "Python 3.9.12 ('base')",
   "language": "python",
   "name": "python3"
  },
  "language_info": {
   "codemirror_mode": {
    "name": "ipython",
    "version": 3
   },
   "file_extension": ".py",
   "mimetype": "text/x-python",
   "name": "python",
   "nbconvert_exporter": "python",
   "pygments_lexer": "ipython3",
   "version": "3.9.12"
  },
  "orig_nbformat": 4,
  "vscode": {
   "interpreter": {
    "hash": "719f9067fbfee3959f7f6ea2a64df8bb6345c0e89170fb4559d236487e9b7b3a"
   }
  }
 },
 "nbformat": 4,
 "nbformat_minor": 2
}
